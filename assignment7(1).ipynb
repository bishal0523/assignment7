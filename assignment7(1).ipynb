{
 "cells": [
  {
   "cell_type": "code",
   "execution_count": 11,
   "id": "da5d3bf3-011e-4501-90b2-9d5f0203e865",
   "metadata": {},
   "outputs": [
    {
     "name": "stdout",
     "output_type": "stream",
     "text": [
      "20\n",
      "18\n",
      "28.26\n",
      "18.84\n"
     ]
    }
   ],
   "source": [
    "#Q1. What is Abstraction in OOps? Explain with an example.\n",
    "#Abstraction is a fundamental concept in object-oriented programming (OOP) that focuses on representing the essential features and behaviors of an object while hiding unnecessary details. It allows you to create abstract classes or interfaces that define a common set of methods that derived classes must implement.\n",
    "#In OOP, abstraction helps in managing complexity and provides a high-level view of the system. It enables modular design and implementation by separating the interface (what an object does) from the implementation (how it does it).\n",
    "#An abstract class cannot be instantiated directly; it serves as a blueprint for derived classes. It can contain both abstract methods (methods without an implementation) and concrete methods (methods with an implementation). The abstract methods must be implemented by any class that inherits from the abstract class.\n",
    "\n",
    "#Here's an example to illustrate abstraction:\n",
    "from abc import ABC, abstractmethod\n",
    "\n",
    "class Shape(ABC):\n",
    "    @abstractmethod\n",
    "    def area(self):\n",
    "        pass\n",
    "\n",
    "    @abstractmethod\n",
    "    def perimeter(self):\n",
    "        pass\n",
    "\n",
    "class Rectangle(Shape):\n",
    "    def __init__(self, length, width):\n",
    "        self.length = length\n",
    "        self.width = width\n",
    "\n",
    "    def area(self):\n",
    "        return self.length * self.width\n",
    "\n",
    "    def perimeter(self):\n",
    "        return 2 * (self.length + self.width)\n",
    "\n",
    "class Circle(Shape):\n",
    "    def __init__(self, radius):\n",
    "        self.radius = radius\n",
    "\n",
    "    def area(self):\n",
    "        return 3.14 * self.radius**2\n",
    "\n",
    "    def perimeter(self):\n",
    "        return 2 * 3.14 * self.radius\n",
    "\n",
    "\n",
    "# Creating objects and invoking methods\n",
    "rectangle = Rectangle(5, 4)\n",
    "circle = Circle(3)\n",
    "\n",
    "print(rectangle.area())    # Output: 20\n",
    "print(rectangle.perimeter())   # Output: 18\n",
    "\n",
    "print(circle.area())   # Output: 28.26\n",
    "print(circle.perimeter())   # Output: 18.84\n"
   ]
  },
  {
   "cell_type": "code",
   "execution_count": 10,
   "id": "ba70b515-b713-4a6c-bcbe-d50c675637c7",
   "metadata": {},
   "outputs": [],
   "source": [
    "#Q2. Differentiate between Abstraction and Encapsulation. Explain with an example.\n",
    "#Abstraction and encapsulation are two important concepts in object-oriented programming (OOP), but they serve different purposes.\n",
    "\n",
    "    #Abstraction:\n",
    "        #Abstraction focuses on representing the essential features and behaviors of an object while hiding unnecessary details.\n",
    "       # It allows you to create abstract classes or interfaces that define a common set of methods that derived classes must implement.\n",
    "       # Abstraction helps in managing complexity, providing a high-level view of the system, and enabling modular design and implementation.\n",
    "        #It deals with the \"what\" aspect of an object, defining its interface and functionality without exposing the internal implementation.\n",
    "\n",
    "    #Encapsulation:\n",
    "       # Encapsulation involves bundling data (attributes) and methods (behaviors) together within a class, such that the internal details and implementation are hidden from the outside.\n",
    "        #It provides data protection and abstraction, allowing objects to interact with each other through well-defined interfaces.\n",
    "        #Encapsulation helps in maintaining data integrity by controlling access to the internal state of an object and preventing direct modification of data.\n",
    "        #It deals with the \"how\" aspect of an object, encapsulating data and methods to ensure proper usage and maintainability.\n"
   ]
  },
  {
   "cell_type": "code",
   "execution_count": 12,
   "id": "c278fb83-ffd6-4bb9-aadf-c8cb6dda96a2",
   "metadata": {},
   "outputs": [
    {
     "name": "stdout",
     "output_type": "stream",
     "text": [
      "Make: Toyota\n",
      "Model: Camry\n",
      "Mileage: 100\n",
      "Make: Toyota\n",
      "Model: Camry\n",
      "Mileage: 100\n"
     ]
    }
   ],
   "source": [
    "class Car:\n",
    "    def __init__(self, make, model):\n",
    "        self.make = make\n",
    "        self.model = model\n",
    "        self.__mileage = 0\n",
    "\n",
    "    def get_mileage(self):\n",
    "        return self.__mileage\n",
    "\n",
    "    def set_mileage(self, mileage):\n",
    "        if mileage >= 0:\n",
    "            self.__mileage = mileage\n",
    "\n",
    "    def drive(self, distance):\n",
    "        self.__mileage += distance\n",
    "\n",
    "    def display_info(self):\n",
    "        print(f\"Make: {self.make}\")\n",
    "        print(f\"Model: {self.model}\")\n",
    "        print(f\"Mileage: {self.__mileage}\")\n",
    "\n",
    "\n",
    "car = Car(\"Toyota\", \"Camry\")\n",
    "car.drive(100)\n",
    "car.display_info()  # Output: Make: Toyota, Model: Camry, Mileage: 100\n",
    "\n",
    "# Accessing and modifying private attribute directly (not encapsulated)\n",
    "car.__mileage = -50\n",
    "car.display_info()  # Output: Make: Toyota, Model: Camry, Mileage: 100\n"
   ]
  },
  {
   "cell_type": "code",
   "execution_count": 13,
   "id": "a0137b9f-b646-438f-b6da-feb0aeb560d4",
   "metadata": {},
   "outputs": [],
   "source": [
    "#In the above example, we have a Car class that demonstrates both abstraction and encapsulation.\n",
    "#Abstraction: The Car class defines the essential methods such as drive(), get_mileage(), set_mileage(), and display_info(). It hides the internal implementation details of how the mileage is stored and manipulated. This abstraction allows users of the class to interact with the car object through the provided methods without worrying about the underlying logic.\n",
    "#Encapsulation: The Car class encapsulates the make, model, and __mileage attributes within the class. The __mileage attribute is made private by using double underscores (__) as a naming convention. Access to the __mileage attribute is controlled through getter and setter methods (get_mileage() and set_mileage()) to ensure proper encapsulation and data protection. The private attribute cannot be directly accessed or modified from outside the class.\n",
    "#Overall, abstraction focuses on defining interfaces and functionality, while encapsulation focuses on data protection and hiding implementation details. Both concepts contribute to building modular, maintainable, and robust code in OOP.\n",
    "\n",
    "#Q3. What is abc module in python? Why is it used?\n",
    "#In Python, the abc module stands for \"Abstract Base Classes.\" It provides the infrastructure for creating abstract classes and abstract methods in Python. Abstract classes are classes that cannot be instantiated directly but serve as a blueprint for derived classes.\n",
    "#The abc module is used to define abstract base classes by utilizing the ABC (Abstract Base Class) metaclass and the abstractmethod decorator. It allows you to enforce certain methods to be implemented by any class that inherits from an abstract base class.\n",
    "#The abc module is used for the following purposes:\n",
    " # Creating abstract classes: The abc module provides the ABC metaclass, which is used as a base metaclass to define abstract base classes. When a class is defined with ABC as its metaclass, it becomes an abstract base class. An abstract base class cannot be instantiated directly but provides a common interface for its derived classes.\n",
    "#Defining abstract methods: The abc module provides the abstractmethod decorator, which is used to mark methods as abstract. Abstract methods are defined in an abstract base class but have no implementation. They act as placeholders for methods that must be implemented by any class that inherits from the abstract base class.\n",
    "#The abstractmethod decorator ensures that any class inheriting from the abstract base class must implement the abstract methods, or else it will raise a TypeError during instantiation.\n",
    "#Enforcing interface consistency: Abstract base classes help in enforcing a consistent interface across multiple derived classes. By defining abstract methods in the abstract base class, you can ensure that all derived classes provide the necessary methods with the expected signatures.\n",
    "#Using the abc module and abstract base classes allows you to define common interfaces, promote code reusability, and enforce certain behaviors in derived classes. It provides a mechanism for creating well-defined class hierarchies and enables the development of robust and maintainable code."
   ]
  },
  {
   "cell_type": "code",
   "execution_count": 14,
   "id": "6d62a3cd-52e1-47bf-9a38-f851c14ec6e5",
   "metadata": {},
   "outputs": [
    {
     "ename": "IndentationError",
     "evalue": "unexpected indent (4241931745.py, line 20)",
     "output_type": "error",
     "traceback": [
      "\u001b[0;36m  Cell \u001b[0;32mIn[14], line 20\u001b[0;36m\u001b[0m\n\u001b[0;31m    3# Getter Methods: Getter methods provide read-only access to the private data members. They allow retrieving the values of the data attributes.\u001b[0m\n\u001b[0m    ^\u001b[0m\n\u001b[0;31mIndentationError\u001b[0m\u001b[0;31m:\u001b[0m unexpected indent\n"
     ]
    }
   ],
   "source": [
    "#Q4. How can we achieve data abstraction?\n",
    "#Data abstraction in object-oriented programming (OOP) can be achieved through encapsulation and access modifiers. Encapsulation refers to the bundling of data and methods together within a class, while access modifiers control the visibility and accessibility of class members.\n",
    "\n",
    "#Here are the steps to achieve data abstraction:\n",
    "\n",
    "    #Define a Class: Create a class that represents the concept or entity you want to abstract. The class should encapsulate the data related to that concept.\n",
    "\n",
    "   # Use Access Modifiers: Utilize access modifiers to control the visibility and accessibility of the class members (attributes and methods). In Python, there are three access modifiers:\n",
    "\n",
    "       # Public: Public members are accessible from anywhere. They are not explicitly marked and can be accessed using the dot notation (object.member).\n",
    "\n",
    "       # Private: Private members are denoted by prefixing them with double underscores (__). They can only be accessed within the class itself and are not visible outside the class.\n",
    "\n",
    "      #  Protected: Protected members are denoted by prefixing them with a single underscore (_). They are intended to be accessed within the class itself and its subclasses.\n",
    "\n",
    "  #  By using access modifiers appropriately, you can control how the data is accessed and modified from outside the class, promoting encapsulation and abstraction.\n",
    "\n",
    "    #Provide Public Methods: Define public methods within the class to interact with the encapsulated data. These methods act as an interface for accessing and modifying the data.\n",
    "\n",
    "       3# Getter Methods: Getter methods provide read-only access to the private data members. They allow retrieving the values of the data attributes.\n",
    "\n",
    "        #Setter Methods: Setter methods provide write access to the private data members. They allow modifying the values of the data attributes while enforcing any necessary validation or logic.\n",
    "\n",
    "   # By providing public methods to access and modify the data, you ensure that the internal details of the data are hidden, and external code interacts with the data through the defined interface.\n"
   ]
  },
  {
   "cell_type": "code",
   "execution_count": 15,
   "id": "534140ea-f67d-472e-916a-660a592b2e54",
   "metadata": {},
   "outputs": [
    {
     "ename": "TypeError",
     "evalue": "Can't instantiate abstract class MyAbstractClass with abstract method my_abstract_method",
     "output_type": "error",
     "traceback": [
      "\u001b[0;31m---------------------------------------------------------------------------\u001b[0m",
      "\u001b[0;31mTypeError\u001b[0m                                 Traceback (most recent call last)",
      "Cell \u001b[0;32mIn[15], line 14\u001b[0m\n\u001b[1;32m     11\u001b[0m         \u001b[38;5;28;01mpass\u001b[39;00m\n\u001b[1;32m     13\u001b[0m \u001b[38;5;66;03m# Attempting to create an instance of the abstract class\u001b[39;00m\n\u001b[0;32m---> 14\u001b[0m my_object \u001b[38;5;241m=\u001b[39m \u001b[43mMyAbstractClass\u001b[49m\u001b[43m(\u001b[49m\u001b[43m)\u001b[49m  \u001b[38;5;66;03m# Raises TypeError: Can't instantiate abstract class MyAbstractClass with abstract methods my_abstract_method\u001b[39;00m\n",
      "\u001b[0;31mTypeError\u001b[0m: Can't instantiate abstract class MyAbstractClass with abstract method my_abstract_method"
     ]
    }
   ],
   "source": [
    "#Q5. Can we create an instance of an abstract class? Explain your answer.\n",
    "#No, we cannot create an instance of an abstract class in Python. Abstract classes are meant to serve as blueprints or templates for derived classes, and they cannot be instantiated directly.\n",
    "#Attempting to create an instance of an abstract class in Python will result in a TypeError with a message stating that the abstract class cannot be instantiated because it contains abstract methods that have not been implemented.\n",
    "#Abstract classes are defined using the abc module in Python, and they are created by using the ABC (Abstract Base Class) metaclass as the base metaclass for the class definition. Abstract classes often contain one or more abstract methods, which are methods without an implementation.\n",
    "#The purpose of abstract classes is to provide a common interface and a contract for derived classes. The derived classes that inherit from an abstract class must implement the abstract methods defined in the abstract class. This enforces a consistent behavior across all derived classes.\n",
    "from abc import ABC, abstractmethod\n",
    "\n",
    "class MyAbstractClass(ABC):\n",
    "    @abstractmethod\n",
    "    def my_abstract_method(self):\n",
    "        pass\n",
    "\n",
    "# Attempting to create an instance of the abstract class\n",
    "my_object = MyAbstractClass()  # Raises TypeError: Can't instantiate abstract class MyAbstractClass with abstract methods my_abstract_method\n"
   ]
  },
  {
   "cell_type": "code",
   "execution_count": null,
   "id": "c851d2e9-4c1d-44e5-afac-9af398bdff95",
   "metadata": {},
   "outputs": [],
   "source": []
  }
 ],
 "metadata": {
  "kernelspec": {
   "display_name": "Python 3 (ipykernel)",
   "language": "python",
   "name": "python3"
  },
  "language_info": {
   "codemirror_mode": {
    "name": "ipython",
    "version": 3
   },
   "file_extension": ".py",
   "mimetype": "text/x-python",
   "name": "python",
   "nbconvert_exporter": "python",
   "pygments_lexer": "ipython3",
   "version": "3.10.8"
  }
 },
 "nbformat": 4,
 "nbformat_minor": 5
}
